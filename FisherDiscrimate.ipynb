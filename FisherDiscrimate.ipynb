{
  "nbformat": 4,
  "nbformat_minor": 0,
  "metadata": {
    "colab": {
      "name": "Fisher.ipynb",
      "provenance": [],
      "toc_visible": true,
      "authorship_tag": "ABX9TyMeZGvZeYeuIamaFTkJS30Z",
      "include_colab_link": true
    },
    "kernelspec": {
      "name": "python3",
      "display_name": "Python 3"
    },
    "language_info": {
      "name": "python"
    },
    "accelerator": "GPU"
  },
  "cells": [
    {
      "cell_type": "markdown",
      "metadata": {
        "id": "view-in-github",
        "colab_type": "text"
      },
      "source": [
        "<a href=\"https://colab.research.google.com/github/SimmonLEe/THU_PatternRecognition/blob/main/FisherDiscrimate.ipynb\" target=\"_parent\"><img src=\"https://colab.research.google.com/assets/colab-badge.svg\" alt=\"Open In Colab\"/></a>"
      ]
    },
    {
      "cell_type": "markdown",
      "metadata": {
        "id": "VKBWDxjpsP-O"
      },
      "source": [
        "导入数据 并且求解两类的类内离差矩阵与类间离差矩阵"
      ]
    },
    {
      "cell_type": "code",
      "metadata": {
        "id": "a65ZCVgrwhvr"
      },
      "source": [
        "import numpy as np\n",
        "import pandas\n",
        "import sklearn"
      ],
      "execution_count": 16,
      "outputs": []
    },
    {
      "cell_type": "code",
      "metadata": {
        "id": "NQrrPK49meZM"
      },
      "source": [
        "from sklearn.datasets import load_breast_cancer"
      ],
      "execution_count": 17,
      "outputs": []
    },
    {
      "cell_type": "code",
      "metadata": {
        "colab": {
          "base_uri": "https://localhost:8080/"
        },
        "id": "8GBeQLOrmpL1",
        "outputId": "21eef49e-9729-4ef4-af12-a9d9dca65113"
      },
      "source": [
        "breast_cancer_data = load_breast_cancer()\n",
        "breast_cancer_data.data.shape"
      ],
      "execution_count": 21,
      "outputs": [
        {
          "output_type": "execute_result",
          "data": {
            "text/plain": [
              "(569, 30)"
            ]
          },
          "metadata": {},
          "execution_count": 21
        }
      ]
    },
    {
      "cell_type": "code",
      "metadata": {
        "colab": {
          "base_uri": "https://localhost:8080/"
        },
        "id": "YgMnbCOKm1lu",
        "outputId": "c85f7a7c-dcb1-4755-c67b-7c9d27421142"
      },
      "source": [
        "breast_cancer_data.target.shape"
      ],
      "execution_count": 24,
      "outputs": [
        {
          "output_type": "execute_result",
          "data": {
            "text/plain": [
              "(569,)"
            ]
          },
          "metadata": {},
          "execution_count": 24
        }
      ]
    },
    {
      "cell_type": "code",
      "metadata": {
        "id": "Q7t_-0upm1sx"
      },
      "source": [
        "data = breast_cancer_data.data\n",
        "label = breast_cancer_data.target"
      ],
      "execution_count": 26,
      "outputs": []
    },
    {
      "cell_type": "code",
      "metadata": {
        "id": "OsezlU3pnc-4"
      },
      "source": [
        "\n",
        "train_data = data[:400]\n",
        "test_data = data[400:]\n",
        "train_label = label[:400]\n",
        "test_label = label[400:]"
      ],
      "execution_count": 32,
      "outputs": []
    },
    {
      "cell_type": "code",
      "metadata": {
        "colab": {
          "base_uri": "https://localhost:8080/"
        },
        "id": "41GRwgOqm1yd",
        "outputId": "b7dc05d7-b6a2-4264-fec0-97a4007ae137"
      },
      "source": [
        "# 将数据第一类与第二类选出\n",
        "class_zero_mask = (train_label == 0)\n",
        "class_one_mask = (train_label != 0)\n",
        "CLASS_0 = train_data[class_zero_mask]\n",
        "CLASS_1 = train_data[class_one_mask]\n",
        "print(\"CLASS_0_SHAPE:{}, CLASS_1_SHAPE:{}\".format(CLASS_0.shape, CLASS_1.shape))"
      ],
      "execution_count": 38,
      "outputs": [
        {
          "output_type": "stream",
          "name": "stdout",
          "text": [
            "CLASS_0_SHAPE:(173, 30), CLASS_1_SHAPE:(227, 30)\n"
          ]
        }
      ]
    },
    {
      "cell_type": "code",
      "metadata": {
        "id": "OjpTDJQOpryP"
      },
      "source": [
        "# 求解协方差矩阵\n",
        "Covar_0 = np.cov(CLASS_0.T)\n",
        "Covar_1 = np.cov(CLASS_1.T)"
      ],
      "execution_count": 42,
      "outputs": []
    },
    {
      "cell_type": "code",
      "metadata": {
        "id": "mj-HRknOqWQb"
      },
      "source": [
        "# 求解均值\n",
        "mean_0 = np.mean(CLASS_0, axis=0)\n",
        "mean_1 = np.mean(CLASS_1, axis=0)"
      ],
      "execution_count": 46,
      "outputs": []
    },
    {
      "cell_type": "markdown",
      "metadata": {
        "id": "0E1V3UqghEXa"
      },
      "source": [
        "## fisher 判别分析\n",
        "## 在空间中寻找一个超平面, 将特征空间中的点投影到该超平面上, 且使得不同类之间尽量分散，同类之间尽量接近\n",
        "## Q1:如何来描述不同类之间的距离呢，又如何来描述同类之间的距离呢?\n",
        "### answer:使用协方差矩阵来描述同类数据之间的距离, 使用两个类之间的均值距离来衡量不同类之间的距离,那么我们的目标就是在空间中寻找一个超平面，在数据投影上去之后 使得协方差矩阵小, 而类间矩阵大\n",
        "minSw maxSb"
      ]
    },
    {
      "cell_type": "code",
      "metadata": {
        "id": "GgkIs-rKwj69"
      },
      "source": [
        "Sw = Covar_0 +Covar_1\n",
        "Sb = (mean_0 - mean_1) * (mean_0 - mean_1)"
      ],
      "execution_count": 49,
      "outputs": []
    },
    {
      "cell_type": "code",
      "metadata": {
        "colab": {
          "base_uri": "https://localhost:8080/"
        },
        "id": "X0nDzIvDjvhR",
        "outputId": "29c5b3ca-9c21-4c1a-e5a4-8752a6eadf7d"
      },
      "source": [
        ""
      ],
      "execution_count": 50,
      "outputs": [
        {
          "output_type": "execute_result",
          "data": {
            "text/plain": [
              "array([2.70755522e+01, 1.80061169e+01, 1.33153658e+03, 2.50466067e+05,\n",
              "       1.17304885e-04, 4.42030048e-03, 1.22451499e-02, 3.78023862e-03,\n",
              "       3.53212642e-04, 2.34802497e-10, 9.88305259e-02, 3.23550969e-04,\n",
              "       5.15065185e+00, 2.41538506e+03, 1.51775073e-07, 1.09682619e-04,\n",
              "       1.94152755e-04, 2.40404131e-05, 1.14630016e-07, 9.37868688e-08,\n",
              "       5.96430425e+01, 4.54783783e+01, 2.91719145e+03, 7.26836199e+05,\n",
              "       4.82266887e-04, 4.02214635e-02, 7.92686476e-02, 1.19367139e-02,\n",
              "       3.35849719e-03, 1.72994836e-04])"
            ]
          },
          "metadata": {},
          "execution_count": 50
        }
      ]
    },
    {
      "cell_type": "code",
      "metadata": {
        "colab": {
          "base_uri": "https://localhost:8080/"
        },
        "id": "3Q140GTFj6lt",
        "outputId": "8190481f-c94d-4a08-eca4-a6120a873932"
      },
      "source": [
        ""
      ],
      "execution_count": 14,
      "outputs": [
        {
          "output_type": "execute_result",
          "data": {
            "text/plain": [
              "array([0.5, 0.4, 0.4])"
            ]
          },
          "metadata": {},
          "execution_count": 14
        }
      ]
    },
    {
      "cell_type": "code",
      "metadata": {
        "colab": {
          "base_uri": "https://localhost:8080/"
        },
        "id": "ETpzRS4cj8ja",
        "outputId": "0a117547-0226-43be-ea9e-3bb2d1d13e60"
      },
      "source": [
        ""
      ],
      "execution_count": 15,
      "outputs": [
        {
          "output_type": "execute_result",
          "data": {
            "text/plain": [
              "array([[ 0.08, -0.04,  0.  ],\n",
              "       [-0.04,  0.02,  0.  ],\n",
              "       [ 0.  ,  0.  ,  0.  ]])"
            ]
          },
          "metadata": {},
          "execution_count": 15
        }
      ]
    },
    {
      "cell_type": "code",
      "metadata": {
        "id": "ErUo3XEEkUzU"
      },
      "source": [
        ""
      ],
      "execution_count": null,
      "outputs": []
    }
  ]
}